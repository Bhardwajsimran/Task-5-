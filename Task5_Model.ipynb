# Task 5: Decision Trees and Random Forests

# ✅ Import libraries
import pandas as pd
import numpy as np
import matplotlib.pyplot as plt
import seaborn as sns

from sklearn.model_selection import train_test_split, cross_val_score
from sklearn.tree import DecisionTreeClassifier, plot_tree
from sklearn.ensemble import RandomForestClassifier
from sklearn.metrics import accuracy_score, classification_report, confusion_matrix

# ✅ Load the dataset
df = pd.read_csv('heart.csv')  # Replace with your dataset path if different
print("First 5 rows of the dataset:")
print(df.head())

# ✅ Split into features and target
X = df.drop('target', axis=1)
y = df['target']

# ✅ Train-Test Split
X_train, X_test, y_train, y_test = train_test_split(X, y, test_size=0.2, random_state=42)

# ✅ Train Decision Tree Classifier
tree_clf = DecisionTreeClassifier(max_depth=3, random_state=42)
tree_clf.fit(X_train, y_train)

# ✅ Plot the Decision Tree
plt.figure(figsize=(20, 10))
plot_tree(tree_clf, filled=True, feature_names=X.columns, class_names=["No Disease", "Disease"])
plt.title("Decision Tree")
plt.savefig("decision_tree_plot.png")
plt.show()

# ✅ Evaluate Decision Tree
y_pred_tree = tree_clf.predict(X_test)
print("🎯 Decision Tree Accuracy:", accuracy_score(y_test, y_pred_tree))
print("\nClassification Report:\n", classification_report(y_test, y_pred_tree))

# ✅ Train Random Forest Classifier
rf_clf = RandomForestClassifier(n_estimators=100, random_state=42)
rf_clf.fit(X_train, y_train)

# ✅ Evaluate Random Forest
y_pred_rf = rf_clf.predict(X_test)
print("🎯 Random Forest Accuracy:", accuracy_score(y_test, y_pred_rf))
print("\nClassification Report:\n", classification_report(y_test, y_pred_rf))

# ✅ Feature Importances Plot
importances = rf_clf.feature_importances_
feat_imp = pd.Series(importances, index=X.columns).sort_values(ascending=False)

plt.figure(figsize=(10, 6))
sns.barplot(x=feat_imp, y=feat_imp.index)
plt.title("Feature Importances (Random Forest)")
plt.xlabel("Importance Score")
plt.tight_layout()
plt.savefig("feature_importances.png")
plt.show()

# ✅ Cross-Validation
cv_scores = cross_val_score(rf_clf, X, y, cv=5)
print("Cross-Validation Scores (Random Forest):", cv_scores)
print("Mean Cross-Validation Accuracy:", cv_scores.mean())
